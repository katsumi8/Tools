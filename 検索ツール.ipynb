{
 "cells": [
  {
   "cell_type": "code",
   "execution_count": 1,
   "metadata": {},
   "outputs": [],
   "source": [
    "import requests\n",
    "from bs4 import BeautifulSoup\n",
    "import pandas as pd\n",
    "import ssl"
   ]
  },
  {
   "cell_type": "code",
   "execution_count": 2,
   "metadata": {},
   "outputs": [],
   "source": [
    "key_excel = pd.read_excel('Keywords.xlsx')"
   ]
  },
  {
   "cell_type": "code",
   "execution_count": 3,
   "metadata": {},
   "outputs": [],
   "source": [
    "Kywrd_1 = key_excel['Unnamed: 1'].to_list()[3:-9]\n",
    "Kywrd_1 = [item.replace('国際潮流①：\\n', '') for item in Kywrd_1]\n",
    "Kywrd_1 = [item.replace('国際潮流②：\\n', '') for item in Kywrd_1]\n",
    "Kywrd_1 = [item.replace('国際潮流③：\\n', '') for item in Kywrd_1]\n",
    "Kywrd_2_lst = ['Amazon ','Google ','Facebook ','Apple ','Microsoft ','Salesforce ']\n",
    "Keyword = []\n",
    "for gafamS in Kywrd_2_lst:\n",
    "    Keyword.append([gafamS + item for item in Kywrd_1])\n",
    "def flatten(nested_list):\n",
    "    \"\"\"2重のリストをフラットにする関数\"\"\"\n",
    "    return [e for inner_list in nested_list for e in inner_list]\n",
    "\n",
    "Keyword = flatten(Keyword)"
   ]
  },
  {
   "cell_type": "code",
   "execution_count": 19,
   "metadata": {
    "scrolled": true
   },
  
   "source": [
    "\n",
    "df_lst = []\n",
    "kywrd_lst = []\n",
    "# 70キーワード×30検索リストが限界\n",
    "for search_keyword in Keyword:\n",
    "    print('【検索した単語】{}'.format(search_keyword))\n",
    "    #検索順位取得処理\n",
    "    #Google検索の実施\n",
    "    search_url = 'https://www.google.co.jp/search?hl=ja&num=30&q=' + search_keyword\n",
    "    res_google = requests.get(search_url)\n",
    "    #Responseオブジェクトが持つステータスコードが200番台(成功)以外だったら、エラーメッセージを吐き出してスクリプトを停止します。\n",
    "    res_google.raise_for_status()\n",
    "    print(\"Google検索結果を取得\")\n",
    "\n",
    "    #res_google.textは、検索結果のページのHTML\n",
    "    bs4_google = BeautifulSoup(res_google.text, 'lxml')\n",
    "    google_search_page = bs4_google.select('div.kCrYT>a')\n",
    "\n",
    "    #rank:検索順位\n",
    "    rank = 1\n",
    "    site_rank = []\n",
    "    site_title = []\n",
    "    site_url = []\n",
    "\n",
    "    for site in google_search_page:\n",
    "        try:    \n",
    "            site_title.append(site.select('h3.zBAuLc')[0].text)\n",
    "            site_url.append(site.get('href').split('&sa=U&')[0].replace('/url?q=', ''))\n",
    "            site_rank.append(rank)\n",
    "            rank +=1\n",
    "        except IndexError:\n",
    "            continue\n",
    "\n",
    "    print(\"以上\")\n",
    "\n",
    "    df = pd.DataFrame({'順位':site_rank, '検索ワード':search_keyword,  'タイトル':site_title, 'URL':site_url})\n",
    "    df_lst.append(df)"
   ]
  },
  {
   "cell_type": "code",
   "execution_count": 20,
   "metadata": {},
   "outputs": [],
   "source": [
    "a = pd.concat(df_lst)"
   ]
  },
  {
   "cell_type": "code",
   "execution_count": 21,
   "metadata": {},
   "outputs": [],
   "source": [
    "a.to_csv('検索結果.csv',index=None, encoding='utf_8_sig')"
   ]
  },
  {
   "cell_type": "code",
   "execution_count": null,
   "metadata": {},
   "outputs": [],
   "source": []
  }
 ],
 "metadata": {
  "kernelspec": {
   "display_name": "Python 3",
   "language": "python",
   "name": "python3"
  },
  "language_info": {
   "codemirror_mode": {
    "name": "ipython",
    "version": 3
   },
   "file_extension": ".py",
   "mimetype": "text/x-python",
   "name": "python",
   "nbconvert_exporter": "python",
   "pygments_lexer": "ipython3",
   "version": "3.7.9"
  }
 },
 "nbformat": 4,
 "nbformat_minor": 4
}
